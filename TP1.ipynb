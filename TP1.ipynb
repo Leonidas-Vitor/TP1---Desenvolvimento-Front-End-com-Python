{
 "cells": [
  {
   "cell_type": "code",
   "execution_count": 49,
   "metadata": {},
   "outputs": [],
   "source": [
    "!pip freeze > requirement.txt"
   ]
  },
  {
   "cell_type": "code",
   "execution_count": 21,
   "metadata": {},
   "outputs": [
    {
     "name": "stdout",
     "output_type": "stream",
     "text": [
      "Writing F:\\OneDrive\\Graduação Ciência de dados\\TPs\\Desenvolvimento Front-End com Python\\TP1\\streamlit_app.py\n"
     ]
    }
   ],
   "source": [
    "%%writefile \"F:\\OneDrive\\Graduação Ciência de dados\\TPs\\Desenvolvimento Front-End com Python\\TP1\\streamlit_app.py\"\n",
    "import streamlit as st\n",
    "\n",
    "\n",
    "intro_page = st.Page(\"Intro.py\", title=\"Introdução\", icon=\"📑\")\n",
    "part_1 = st.Page(\"Parte1.py\", title=\"Parte 1\", icon=\"1️⃣\")\n",
    "part_2 = st.Page(\"Parte2.py\", title=\"Parte 2\", icon=\"2️⃣\")\n",
    "\n",
    "pg = st.navigation([intro_page, part_1, part_2])\n",
    "\n",
    "st.set_page_config(\n",
    "        page_title=\"Intro\",\n",
    "        page_icon=\"Infnet_logo.png\",\n",
    "        layout=\"wide\",\n",
    "        initial_sidebar_state = \"expanded\")\n",
    "\n",
    "pg.run()\n"
   ]
  },
  {
   "cell_type": "code",
   "execution_count": 73,
   "metadata": {},
   "outputs": [
    {
     "name": "stdout",
     "output_type": "stream",
     "text": [
      "Overwriting F:\\OneDrive\\Graduação Ciência de dados\\TPs\\Desenvolvimento Front-End com Python\\TP1\\Intro.py\n"
     ]
    }
   ],
   "source": [
    "%%writefile \"F:\\OneDrive\\Graduação Ciência de dados\\TPs\\Desenvolvimento Front-End com Python\\TP1\\Intro.py\"\n",
    "import streamlit as st\n",
    "\n",
    "html_p = \"\"\"<p style='text-align: center; font-size:%spx;'><b>%s</b></p>\"\"\"\n",
    "\n",
    "\n",
    "\n",
    "github_link = '''https://github.com/Leonidas-Vitor/TP1---Desenvolvimento-Front-End-com-Python'''\n",
    "email = '''leonidas.almeida@al.infnet.edu.br'''\n",
    "\n",
    "#st.divider()\n",
    "columns = st.columns([0.3,0.7])\n",
    "with columns[0]:\n",
    "    st.image('Infnet_logo.png',width=200)\n",
    "\n",
    "    #st.markdown(html_p % tuple([25,'Desenvolvimento Front-End com Python']),unsafe_allow_html = True)\n",
    "    #st.markdown(html_p % tuple([25,'TP1']),unsafe_allow_html = True)\n",
    "\n",
    "with columns[1]:\n",
    "    st.markdown('''<h1 style='text-align: center; '><b>INSTITUTO INFNET</b></h1>''',unsafe_allow_html = True)\n",
    "    st.markdown(html_p % tuple([35,\"ESCOLA SUPERIOR DE TECNOLOGIA\"]),unsafe_allow_html=True)\n",
    "st.divider()\n",
    "st.markdown(html_p % tuple([35,\"TP1 - Desenvolvimento Front-End com Python\"]),unsafe_allow_html=True)\n",
    "st.markdown(html_p % tuple([25,'Aluno: Leônidas Almeida']),unsafe_allow_html = True)\n",
    "st.markdown(html_p % tuple([25,f'E-mail: <a href= mailto:{email}>{email}</a>']),unsafe_allow_html = True)\n",
    "st.markdown(html_p % tuple([25,f'GitHub: <a href={github_link}>Link para o repositório</a>']),unsafe_allow_html = True)\n",
    "\n"
   ]
  },
  {
   "cell_type": "code",
   "execution_count": 48,
   "metadata": {},
   "outputs": [
    {
     "name": "stdout",
     "output_type": "stream",
     "text": [
      "Overwriting F:\\OneDrive\\Graduação Ciência de dados\\TPs\\Desenvolvimento Front-End com Python\\TP1\\Parte1.py\n"
     ]
    }
   ],
   "source": [
    "%%writefile \"F:\\OneDrive\\Graduação Ciência de dados\\TPs\\Desenvolvimento Front-End com Python\\TP1\\Parte1.py\"\n",
    "import streamlit as st\n",
    "\n",
    "st.title(\"Parte 1\")\n",
    "\n",
    "st.markdown('''**1. Descreva, em um texto de 200 palavras, a motivação para usar a biblioteca Streamlit no contexto da Ciência de Dados. \n",
    "    Inclua exemplos de casos de uso onde Streamlit pode ser vantajoso.**''')\n",
    "\n",
    "st.markdown('''***R:***''')\n",
    "st.write('''Streamlit é uma biblioteca que permite criar rapidamente aplicações web interativas, normalmente utilizada para criar dashbaords e \n",
    "    visualizações de dados. Por ser uma biblioteca com uma curva de aprendizado baixa, é uma excelente opção para cientistas de dados que\n",
    "    desejam compartilhar seus resultados de forma interativa e visual. Além disso, pode ser utilizado para realizar uma análise exploratória \n",
    "    de dados, pois possui diversos recursos para interação com gráficos e tabelas.\n",
    "    ''')\n",
    "\n",
    "st.markdown('''***Exemplos:***''')\n",
    "st.markdown('''- Criação de portfolio de projetos, streamlit além de interativo e visual, também pode ser hospedado gratuitamente no streamlit cloud.''')\n",
    "st.markdown('''- Criação de dashboards interativos altamente personalizados, com funções e configurações específicas que outras ferramentas de dashboard não oferecem de forma fácil.''')\n",
    "st.markdown('''- Análise exploratória de dados, com visualização de gráficos e tabelas interativas''')\n",
    "st.divider()\n",
    "\n",
    "st.markdown('**2. Liste e explique pelo menos cinco características principais da biblioteca Streamlit que a tornam adequada para o desenvolvimento de aplicações de Ciência de Dados.**')\n",
    "\n",
    "st.markdown('''***R:***''')\n",
    "st.markdown('''1. Fácil de aprender e utilizar, permitindo entregar resultados rápidos''')\n",
    "st.markdown('''2. Funciona com as principais bibliotecas de Ciência de Dados, como Pandas, Matplotlib e Scikit-learn''')\n",
    "st.markdown('''3. Permite criar aplicações web interativas com maior grau de personalização do que aplicativos de dashboard tradicionais''')\n",
    "st.markdown('''4. Compartilhamento fácil, rápido e de baixo custo, podendo ser hospedado no streamlit cloud gratuitamente''')\n",
    "st.markdown('''5. Visualização de dados e gráficos em tempo real com opção de interatividade, permitindo a exploração de dados de forma dinâmica''')\n",
    "\n",
    "st.divider()\n",
    "\n",
    "st.markdown('**3. Crie um ambiente virtual utilizando virtualenv ou pipenv, e instale as dependências necessárias para desenvolver uma aplicação Streamlit. Documente cada etapa do processo e descreva as vantagens de utilizar um ambiente virtual para o desenvolvimento de software.**')\n",
    "\n",
    "st.image('Criação de ambiente.png')\n",
    "\n",
    "st.code('pip install requirements.txt')\n",
    "\n",
    "st.markdown('''***R:***''')\n",
    "st.markdown('''- Facilidade para compartilhar o projeto com outros desenvolvedores.''')\n",
    "st.markdown('''- Dependências específicas para cada projeto, sem comprometer as versões do sistema.''')\n",
    "st.markdown('''- Garantia de funcionamento do projeto em diferentes máquinas.''')\n",
    "\n",
    "\n",
    "st.divider()\n",
    "\n",
    "st.markdown('**4. Utilizando o ambiente virtual criado no exercício anterior, instale a biblioteca Streamlit usando pip. Em seguida, crie um pequeno script em Python que exiba a mensagem \"Hello, Streamlit!\" utilizando a função st.write(). Documente cada etapa do processo.**')\n",
    "\n",
    "st.write('Instalação da biblioteca Streamlit:')\n",
    "st.code('pip install streamlit')\n",
    "\n",
    "st.write(\"Hello, Streamlit!\")\n",
    "st.code('st.write(\"Hello, Streamlit!\")')\n"
   ]
  },
  {
   "cell_type": "code",
   "execution_count": 12,
   "metadata": {},
   "outputs": [
    {
     "name": "stdout",
     "output_type": "stream",
     "text": [
      "Writing F:\\OneDrive\\Graduação Ciência de dados\\TPs\\Desenvolvimento Front-End com Python\\TP1\\Parte2.py\n"
     ]
    }
   ],
   "source": [
    "%%writefile \"F:\\OneDrive\\Graduação Ciência de dados\\TPs\\Desenvolvimento Front-End com Python\\TP1\\Parte2.py\"\n",
    "import streamlit as st\n",
    "\n",
    "st.write(\"Parte 2\")"
   ]
  }
 ],
 "metadata": {
  "kernelspec": {
   "display_name": "INFNET_II",
   "language": "python",
   "name": "python3"
  },
  "language_info": {
   "codemirror_mode": {
    "name": "ipython",
    "version": 3
   },
   "file_extension": ".py",
   "mimetype": "text/x-python",
   "name": "python",
   "nbconvert_exporter": "python",
   "pygments_lexer": "ipython3",
   "version": "3.11.5"
  }
 },
 "nbformat": 4,
 "nbformat_minor": 2
}
